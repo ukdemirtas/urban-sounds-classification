{
 "cells": [
  {
   "cell_type": "code",
   "execution_count": 1,
   "id": "47009bcf-a42c-45b5-8a80-a11f9eb2e2ef",
   "metadata": {},
   "outputs": [],
   "source": [
    "import tensorflow as tf\n",
    "from tensorflow import keras\n",
    "import numpy as np\n",
    "from sklearn.model_selection import train_test_split"
   ]
  },
  {
   "cell_type": "code",
   "execution_count": 2,
   "id": "8b2e8ebc-db27-4fbb-9638-47a5ffeecad9",
   "metadata": {},
   "outputs": [],
   "source": [
    "image_size = (32,32)\n",
    "path=\"C:/Users/ukdem/test/globalaihub/spectrograms\""
   ]
  },
  {
   "cell_type": "code",
   "execution_count": 3,
   "id": "e279fdf7-4104-48c3-857d-40fb60ca53f0",
   "metadata": {},
   "outputs": [
    {
     "name": "stdout",
     "output_type": "stream",
     "text": [
      "Found 8735 files belonging to 10 classes.\n"
     ]
    }
   ],
   "source": [
    "train_ds = tf.keras.utils.image_dataset_from_directory(path,color_mode=\"grayscale\",image_size=[32,32],labels='inferred',label_mode = \"int\" ,batch_size=None,shuffle=False)"
   ]
  },
  {
   "cell_type": "code",
   "execution_count": 4,
   "id": "879e683e-f688-4012-b33a-237d856dbfcc",
   "metadata": {},
   "outputs": [],
   "source": [
    "def normalization(image,label):\n",
    "    image = tf.cast(image/255. , tf.float32)\n",
    "    return image,label"
   ]
  },
  {
   "cell_type": "code",
   "execution_count": 5,
   "id": "03d96b08-8395-44bd-9ab1-70ce74c94aaf",
   "metadata": {},
   "outputs": [],
   "source": [
    "normalized_train_ds = train_ds.map(normalization)"
   ]
  },
  {
   "cell_type": "code",
   "execution_count": 6,
   "id": "881a7a4d-7077-489e-af1b-f6f806f150e5",
   "metadata": {},
   "outputs": [],
   "source": [
    "images = list(normalized_train_ds.map(lambda x, y: x))\n",
    "labels = list(normalized_train_ds.map(lambda x, y: y))\n",
    "images= np.asarray(images) \n",
    "labels= np.asarray(labels)"
   ]
  },
  {
   "cell_type": "code",
   "execution_count": 7,
   "id": "4ec359c7-d3b9-454d-9e76-fe984c6c6d7a",
   "metadata": {},
   "outputs": [],
   "source": [
    "datas = list()\n",
    "for image in images:\n",
    "    image = np.reshape(image,(32,32))\n",
    "    datas.append(image)\n",
    "datas=np.array(datas)"
   ]
  },
  {
   "cell_type": "code",
   "execution_count": 8,
   "id": "23ad1e66-8c6d-41fc-96d9-4605b8802ed8",
   "metadata": {},
   "outputs": [],
   "source": [
    "X_train,X_val_test,y_train,y_val_test = train_test_split(datas,labels,test_size = 0.2)\n",
    "X_test,X_val,y_test,y_val = train_test_split(X_val_test,y_val_test,test_size=0.5)"
   ]
  },
  {
   "cell_type": "code",
   "execution_count": 9,
   "id": "e2ad9b62-71a9-460e-a4de-bb3df8040ece",
   "metadata": {},
   "outputs": [
    {
     "name": "stdout",
     "output_type": "stream",
     "text": [
      "(6988, 32, 32) (873, 32, 32) (874, 32, 32)\n"
     ]
    }
   ],
   "source": [
    "print(X_train.shape,X_test.shape,X_val.shape)"
   ]
  }
 ],
 "metadata": {
  "kernelspec": {
   "display_name": "Python 3 (ipykernel)",
   "language": "python",
   "name": "python3"
  },
  "language_info": {
   "codemirror_mode": {
    "name": "ipython",
    "version": 3
   },
   "file_extension": ".py",
   "mimetype": "text/x-python",
   "name": "python",
   "nbconvert_exporter": "python",
   "pygments_lexer": "ipython3",
   "version": "3.9.12"
  }
 },
 "nbformat": 4,
 "nbformat_minor": 5
}
