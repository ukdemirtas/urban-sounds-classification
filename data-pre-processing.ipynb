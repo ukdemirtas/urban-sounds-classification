{
 "cells": [
  {
   "cell_type": "code",
   "execution_count": 1,
   "id": "d38617ec-667b-4814-b3eb-7c89462aab0d",
   "metadata": {},
   "outputs": [],
   "source": [
    "import cv2\n",
    "from os import listdir\n",
    "from os.path import isfile, join\n",
    "import numpy as np"
   ]
  },
  {
   "cell_type": "code",
   "execution_count": 2,
   "id": "048b7576-3167-4d2e-9bac-d931fb38a344",
   "metadata": {},
   "outputs": [],
   "source": [
    "mypath='spectrograms/0'\n",
    "onlyfiles = [ f for f in listdir(mypath) if isfile(join(mypath,f)) ]\n",
    "images_zero = np.empty(len(onlyfiles), dtype=object)\n",
    "for n in range(0, len(onlyfiles)):\n",
    "    images_zero[n] = cv2.imread( join(mypath,onlyfiles[n]) )"
   ]
  },
  {
   "cell_type": "code",
   "execution_count": 3,
   "id": "e3ab54df-ac24-4d9d-a4c4-013833d17810",
   "metadata": {},
   "outputs": [],
   "source": [
    "mypath='spectrograms/1'\n",
    "onlyfiles = [ f for f in listdir(mypath) if isfile(join(mypath,f)) ]\n",
    "images_one = np.empty(len(onlyfiles), dtype=object)\n",
    "for n in range(0, len(onlyfiles)):\n",
    "    images_one[n] = cv2.imread( join(mypath,onlyfiles[n]) )"
   ]
  },
  {
   "cell_type": "code",
   "execution_count": 4,
   "id": "967be17a-c491-40b2-bf25-05d75f2eb3ef",
   "metadata": {},
   "outputs": [],
   "source": [
    "mypath='spectrograms/2'\n",
    "onlyfiles = [ f for f in listdir(mypath) if isfile(join(mypath,f)) ]\n",
    "images_two = np.empty(len(onlyfiles), dtype=object)\n",
    "for n in range(0, len(onlyfiles)):\n",
    "    images_two[n] = cv2.imread( join(mypath,onlyfiles[n]) )"
   ]
  },
  {
   "cell_type": "code",
   "execution_count": 5,
   "id": "687b314c-ff64-4123-b85a-6c6c6f44377d",
   "metadata": {},
   "outputs": [],
   "source": [
    "mypath='spectrograms/3'\n",
    "onlyfiles = [ f for f in listdir(mypath) if isfile(join(mypath,f)) ]\n",
    "images_three = np.empty(len(onlyfiles), dtype=object)\n",
    "for n in range(0, len(onlyfiles)):\n",
    "    images_three[n] = cv2.imread( join(mypath,onlyfiles[n]) )"
   ]
  },
  {
   "cell_type": "code",
   "execution_count": 6,
   "id": "d9921722-ad69-4e4a-9421-9152dc2efcb8",
   "metadata": {},
   "outputs": [],
   "source": [
    "mypath='spectrograms/4'\n",
    "onlyfiles = [ f for f in listdir(mypath) if isfile(join(mypath,f)) ]\n",
    "images_four = np.empty(len(onlyfiles), dtype=object)\n",
    "for n in range(0, len(onlyfiles)):\n",
    "    images_four[n] = cv2.imread( join(mypath,onlyfiles[n]) )"
   ]
  },
  {
   "cell_type": "code",
   "execution_count": 7,
   "id": "26e29578-1982-4aab-b3c5-70218f075ff5",
   "metadata": {},
   "outputs": [],
   "source": [
    "mypath='spectrograms/5'\n",
    "onlyfiles = [ f for f in listdir(mypath) if isfile(join(mypath,f)) ]\n",
    "images_five = np.empty(len(onlyfiles), dtype=object)\n",
    "for n in range(0, len(onlyfiles)):\n",
    "    images_five[n] = cv2.imread( join(mypath,onlyfiles[n]) )"
   ]
  },
  {
   "cell_type": "code",
   "execution_count": 8,
   "id": "bb384fde-8ab8-4508-9674-733962576fba",
   "metadata": {},
   "outputs": [],
   "source": [
    "mypath='spectrograms/6'\n",
    "onlyfiles = [ f for f in listdir(mypath) if isfile(join(mypath,f)) ]\n",
    "images_six = np.empty(len(onlyfiles), dtype=object)\n",
    "for n in range(0, len(onlyfiles)):\n",
    "    images_six[n] = cv2.imread( join(mypath,onlyfiles[n]) )"
   ]
  },
  {
   "cell_type": "code",
   "execution_count": 9,
   "id": "cb830152-9753-4891-a42c-a7d144a2418a",
   "metadata": {},
   "outputs": [],
   "source": [
    "mypath='spectrograms/7'\n",
    "onlyfiles = [ f for f in listdir(mypath) if isfile(join(mypath,f)) ]\n",
    "images_seven = np.empty(len(onlyfiles), dtype=object)\n",
    "for n in range(0, len(onlyfiles)):\n",
    "    images_seven[n] = cv2.imread( join(mypath,onlyfiles[n]) )"
   ]
  },
  {
   "cell_type": "code",
   "execution_count": 10,
   "id": "88c52675-65c5-4581-9bef-49ef43936589",
   "metadata": {},
   "outputs": [],
   "source": [
    "mypath='spectrograms/8'\n",
    "onlyfiles = [ f for f in listdir(mypath) if isfile(join(mypath,f)) ]\n",
    "images_eight = np.empty(len(onlyfiles), dtype=object)\n",
    "for n in range(0, len(onlyfiles)):\n",
    "    images_eight[n] = cv2.imread( join(mypath,onlyfiles[n]) )"
   ]
  },
  {
   "cell_type": "code",
   "execution_count": 11,
   "id": "c1497188-fe17-42f6-9350-cbc6cb88fa00",
   "metadata": {},
   "outputs": [],
   "source": [
    "mypath='spectrograms/9'\n",
    "onlyfiles = [ f for f in listdir(mypath) if isfile(join(mypath,f)) ]\n",
    "images_nine = np.empty(len(onlyfiles), dtype=object)\n",
    "for n in range(0, len(onlyfiles)):\n",
    "    images_nine[n] = cv2.imread( join(mypath,onlyfiles[n]) )"
   ]
  },
  {
   "cell_type": "code",
   "execution_count": 12,
   "id": "4a80cb56-43f3-4883-8eba-9531a53987d9",
   "metadata": {},
   "outputs": [],
   "source": [
    "zeros = list()\n",
    "for image in images_zero:\n",
    "    image = cv2.cvtColor(image, cv2.COLOR_BGR2GRAY)\n",
    "    resized = cv2.resize(image,(100,100))/255\n",
    "    \n",
    "    zeros.append(resized)"
   ]
  },
  {
   "cell_type": "code",
   "execution_count": 13,
   "id": "74b7b9bb-a18d-44a5-974c-1e53cdb8c7b5",
   "metadata": {},
   "outputs": [],
   "source": [
    "ones = list()\n",
    "for image in images_one:\n",
    "    image = cv2.cvtColor(image, cv2.COLOR_BGR2GRAY)\n",
    "    resized = cv2.resize(image,(100,100))/255\n",
    "    \n",
    "    ones.append(resized)"
   ]
  },
  {
   "cell_type": "code",
   "execution_count": 14,
   "id": "e203d24d-a3f9-4c82-b4fa-67c7384b53e6",
   "metadata": {},
   "outputs": [],
   "source": [
    "twos = list()\n",
    "for image in images_two:\n",
    "    image = cv2.cvtColor(image, cv2.COLOR_BGR2GRAY)\n",
    "    resized = cv2.resize(image,(100,100))/255\n",
    "    \n",
    "    twos.append(resized)"
   ]
  },
  {
   "cell_type": "code",
   "execution_count": 15,
   "id": "cfdc9cfb-6c9f-4f0f-85b6-e42a7b369adb",
   "metadata": {},
   "outputs": [],
   "source": [
    "threes = list()\n",
    "for image in images_three:\n",
    "    image = cv2.cvtColor(image, cv2.COLOR_BGR2GRAY)\n",
    "    resized = cv2.resize(image,(100,100))/255\n",
    "    \n",
    "    threes.append(resized)"
   ]
  },
  {
   "cell_type": "code",
   "execution_count": 16,
   "id": "fd4a1119-cb84-4055-ba91-bc8c7b2d8ee6",
   "metadata": {},
   "outputs": [],
   "source": [
    "fours = list()\n",
    "for image in images_four:\n",
    "    image = cv2.cvtColor(image, cv2.COLOR_BGR2GRAY)\n",
    "    resized = cv2.resize(image,(100,100))/255\n",
    "    \n",
    "    fours.append(resized)"
   ]
  },
  {
   "cell_type": "code",
   "execution_count": 17,
   "id": "c48cb70d-a9b3-4965-b2f0-61576950b074",
   "metadata": {},
   "outputs": [],
   "source": [
    "fives = list()\n",
    "for image in images_five:\n",
    "    image = cv2.cvtColor(image, cv2.COLOR_BGR2GRAY)\n",
    "    resized = cv2.resize(image,(100,100))/255\n",
    "    \n",
    "    fives.append(resized)"
   ]
  },
  {
   "cell_type": "code",
   "execution_count": 18,
   "id": "e821528e-54bf-4b5c-861e-b6281e92a5c6",
   "metadata": {},
   "outputs": [],
   "source": [
    "sixs = list()\n",
    "for image in images_six:\n",
    "    image = cv2.cvtColor(image, cv2.COLOR_BGR2GRAY)\n",
    "    resized = cv2.resize(image,(100,100))/255\n",
    "    \n",
    "    sixs.append(resized)"
   ]
  },
  {
   "cell_type": "code",
   "execution_count": 19,
   "id": "0adc4ed4-4ca1-468e-a952-b4d05fcbb4d8",
   "metadata": {},
   "outputs": [],
   "source": [
    "sevens = list()\n",
    "for image in images_seven:\n",
    "    image = cv2.cvtColor(image, cv2.COLOR_BGR2GRAY)\n",
    "    resized = cv2.resize(image,(100,100))/255\n",
    "    \n",
    "    sevens.append(resized)"
   ]
  },
  {
   "cell_type": "code",
   "execution_count": 20,
   "id": "09255c01-712f-4988-a0fc-7f1ae88f8db0",
   "metadata": {},
   "outputs": [],
   "source": [
    "eights = list()\n",
    "for image in images_eight:\n",
    "    image = cv2.cvtColor(image, cv2.COLOR_BGR2GRAY)\n",
    "    resized = cv2.resize(image,(100,100))/255\n",
    "    \n",
    "    eights.append(resized)"
   ]
  },
  {
   "cell_type": "code",
   "execution_count": 21,
   "id": "2e19e968-13d6-404e-8e15-b772b078a013",
   "metadata": {},
   "outputs": [],
   "source": [
    "nines = list()\n",
    "for image in images_nine:\n",
    "    image = cv2.cvtColor(image, cv2.COLOR_BGR2GRAY)\n",
    "    resized = cv2.resize(image,(100,100))/255\n",
    "    \n",
    "    nines.append(resized)"
   ]
  },
  {
   "cell_type": "code",
   "execution_count": 22,
   "id": "d3e4a1a9-7943-4595-8e97-044938e111b6",
   "metadata": {},
   "outputs": [],
   "source": [
    "class_list = [zeros,ones,twos,threes,fours,fives,sixs,sevens,eights,nines]\n",
    "classes_list_numbers=[0,1,2,3,4,5,6,7,8,9]\n",
    "class_list_str = [\"zeros\",\"ones\",\"twos\",\"threes\",\"fours\",\"fives\",\"sixs\",\"sevens\",\"eights\",\"nines\"]"
   ]
  },
  {
   "cell_type": "code",
   "execution_count": 23,
   "id": "c0357d3b-d056-4723-901f-9f50fabc3eee",
   "metadata": {},
   "outputs": [],
   "source": [
    "all_images = list()\n",
    "for classes in class_list:\n",
    "    all_images.append(classes)"
   ]
  },
  {
   "cell_type": "code",
   "execution_count": 24,
   "id": "573e61f8-63e5-4659-9c65-462aaca2e887",
   "metadata": {},
   "outputs": [],
   "source": [
    "targets=list()\n",
    "for i in class_list_str:\n",
    "    \n",
    "    if i == \"zeros\":\n",
    "        for j in range(len(zeros)):\n",
    "            targets.append(0)\n",
    "    elif i == \"ones\":\n",
    "        for j in range(len(ones)):\n",
    "            targets.append(1)\n",
    "    elif i == \"twos\":\n",
    "        for j in range(len(twos)):\n",
    "            targets.append(2)\n",
    "    elif i == \"threes\":\n",
    "        for j in range(len(threes)):\n",
    "            targets.append(3)\n",
    "    elif i == \"fours\":\n",
    "        for j in range(len(fours)):\n",
    "            targets.append(4)\n",
    "    elif i == \"fives\":\n",
    "        for j in range(len(fives)):\n",
    "            targets.append(5)\n",
    "    elif i == \"sixs\":\n",
    "        for j in range(len(sixs)):\n",
    "            targets.append(6)\n",
    "    elif i == \"sevens\":\n",
    "        for j in range(len(sevens)):\n",
    "            targets.append(7)\n",
    "    elif i == \"eights\":\n",
    "        for j in range(len(eights)):\n",
    "            targets.append(8)\n",
    "    else:\n",
    "        for j in range(len(nines)):\n",
    "            targets.append(9)"
   ]
  },
  {
   "cell_type": "code",
   "execution_count": 25,
   "id": "a8b29cc9-cfc3-4443-ab2e-790a9120f26f",
   "metadata": {},
   "outputs": [],
   "source": [
    "images = list()\n",
    "for i in range(10):\n",
    "    for j in range(len(all_images[i])):\n",
    "        images.append(all_images[i][j])"
   ]
  },
  {
   "cell_type": "code",
   "execution_count": 26,
   "id": "ae4d8a1a-7334-448e-89c3-8ed5277efb84",
   "metadata": {},
   "outputs": [],
   "source": [
    "features_and_targets = [images,targets]"
   ]
  },
  {
   "cell_type": "code",
   "execution_count": 27,
   "id": "749610a6-d139-4d50-a233-d680481b4e2f",
   "metadata": {},
   "outputs": [],
   "source": [
    "from sklearn.model_selection import train_test_split"
   ]
  },
  {
   "cell_type": "code",
   "execution_count": 28,
   "id": "7d1c4055-3c2a-4b97-b274-03fff7f81de1",
   "metadata": {},
   "outputs": [],
   "source": [
    "X_train,X_val_test,y_train,y_val_test = train_test_split(images,targets,test_size = 0.2,random_state=123)"
   ]
  },
  {
   "cell_type": "code",
   "execution_count": 29,
   "id": "6e9a0b01-e4a0-424b-81b8-5749099d89db",
   "metadata": {},
   "outputs": [],
   "source": [
    "X_val,X_test,y_val,y_test = train_test_split(X_val_test,y_val_test,test_size=0.5,random_state=123)"
   ]
  },
  {
   "cell_type": "code",
   "execution_count": null,
   "id": "b712d3fd-80d4-4b5b-8c4a-a69f20445994",
   "metadata": {},
   "outputs": [],
   "source": []
  },
  {
   "cell_type": "code",
   "execution_count": null,
   "id": "67127b9b-f0e2-425d-a7ea-dac619aeb5da",
   "metadata": {},
   "outputs": [],
   "source": []
  }
 ],
 "metadata": {
  "kernelspec": {
   "display_name": "Python 3 (ipykernel)",
   "language": "python",
   "name": "python3"
  },
  "language_info": {
   "codemirror_mode": {
    "name": "ipython",
    "version": 3
   },
   "file_extension": ".py",
   "mimetype": "text/x-python",
   "name": "python",
   "nbconvert_exporter": "python",
   "pygments_lexer": "ipython3",
   "version": "3.9.12"
  }
 },
 "nbformat": 4,
 "nbformat_minor": 5
}
