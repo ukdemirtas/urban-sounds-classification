{
 "cells": [
  {
   "cell_type": "code",
   "execution_count": 1,
   "id": "0bee3d0f-5f37-4157-9f6d-25f82a360747",
   "metadata": {},
   "outputs": [],
   "source": [
    "import cv2\n",
    "import tensorflow as tf\n",
    "import numpy as np"
   ]
  },
  {
   "cell_type": "code",
   "execution_count": 2,
   "id": "92a6b449-191f-48ec-9af3-e19aca318dd8",
   "metadata": {},
   "outputs": [],
   "source": [
    "import matplotlib.pyplot as plt\n",
    "from sklearn.model_selection import train_test_split"
   ]
  },
  {
   "cell_type": "code",
   "execution_count": 3,
   "id": "46ebd94f-afb0-43fe-b6b7-f05a48b01b7e",
   "metadata": {},
   "outputs": [],
   "source": [
    "img_size = (32,32)\n",
    "batch_size = 32"
   ]
  },
  {
   "cell_type": "code",
   "execution_count": 4,
   "id": "05a1b009-4ee8-4b81-949a-c91653aff47e",
   "metadata": {},
   "outputs": [
    {
     "name": "stdout",
     "output_type": "stream",
     "text": [
      "Found 8735 files belonging to 10 classes.\n",
      "Using 7862 files for training.\n",
      "Found 8735 files belonging to 10 classes.\n",
      "Using 873 files for validation.\n"
     ]
    }
   ],
   "source": [
    "path=\"spectrograms\"\n",
    "train_ds = tf.keras.utils.image_dataset_from_directory(path,color_mode=\"grayscale\",image_size=(32,32),validation_split=0.10,subset=\"training\",seed=123,label_mode = \"categorical\")\n",
    "val_ds = tf.keras.utils.image_dataset_from_directory(path,color_mode=\"grayscale\",image_size=(32,32),validation_split=0.10,subset=\"validation\",seed=123,label_mode = \"categorical\")"
   ]
  },
  {
   "cell_type": "code",
   "execution_count": 5,
   "id": "2110b470-2f26-40d4-9a6e-b7dee23a73d5",
   "metadata": {},
   "outputs": [],
   "source": [
    "def normalization(image,label):\n",
    "    image = tf.cast(image/255. , tf.float32)\n",
    "    return image,label"
   ]
  },
  {
   "cell_type": "code",
   "execution_count": 6,
   "id": "9961d636-fbab-43ca-9784-bd25993ad200",
   "metadata": {},
   "outputs": [],
   "source": [
    "normalized_train_ds = train_ds.map(normalization)\n",
    "normalized_val_ds = val_ds.map(normalization)"
   ]
  },
  {
   "cell_type": "code",
   "execution_count": 7,
   "id": "a9a49c82-65cc-4c2f-91b8-d852bf4b12d9",
   "metadata": {},
   "outputs": [],
   "source": [
    "normalized_train_ds = normalized_train_ds.unbatch()\n",
    "images = list(normalized_train_ds.map(lambda x, y: x))\n",
    "labels = list(normalized_train_ds.map(lambda x, y: y))"
   ]
  },
  {
   "cell_type": "code",
   "execution_count": 8,
   "id": "a5e3ae27-65d9-44ec-ad28-c051bf932c14",
   "metadata": {},
   "outputs": [],
   "source": [
    "X_train,X_test,y_train,y_test = train_test_split(images,labels,test_size = 0.2)"
   ]
  }
 ],
 "metadata": {
  "kernelspec": {
   "display_name": "Python 3 (ipykernel)",
   "language": "python",
   "name": "python3"
  },
  "language_info": {
   "codemirror_mode": {
    "name": "ipython",
    "version": 3
   },
   "file_extension": ".py",
   "mimetype": "text/x-python",
   "name": "python",
   "nbconvert_exporter": "python",
   "pygments_lexer": "ipython3",
   "version": "3.9.12"
  }
 },
 "nbformat": 4,
 "nbformat_minor": 5
}
