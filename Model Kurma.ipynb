{
 "cells": [
  {
   "cell_type": "code",
   "execution_count": 1,
   "id": "9b8e01d8-a6be-4ac3-affa-dac3aeec917a",
   "metadata": {},
   "outputs": [
    {
     "name": "stderr",
     "output_type": "stream",
     "text": [
      "\n",
      "KeyboardInterrupt\n",
      "\n"
     ]
    }
   ],
   "source": [
    "import tensorflow as tf\n",
    "from tensorflow import keras\n",
    "from tensorflow.keras import layers"
   ]
  },
  {
   "cell_type": "code",
   "execution_count": null,
   "id": "6dd2fad0-9381-4cf6-8cae-cd8afa28ff07",
   "metadata": {},
   "outputs": [],
   "source": [
    "model = keras.Sequential()"
   ]
  },
  {
   "cell_type": "code",
   "execution_count": null,
   "id": "87396f78-67d1-4a2d-aff7-8e0713548050",
   "metadata": {},
   "outputs": [],
   "source": [
    "model.add(layers.Conv2D(32,\n",
    "                kernel_size=(3,3),\n",
    "                strides=(1,1),\n",
    "                padding=\"same\",\n",
    "                activation=\"relu\",\n",
    "                input_shape=[32,32,1]))\n",
    "\n",
    "model.add(layers.MaxPooling2D((2,2)))\n",
    "\n",
    "model.add(layers.Conv2D(64,\n",
    "                kernel_size=(3,3),\n",
    "                strides=(1,1),\n",
    "                padding=\"same\",\n",
    "                activation=\"relu\"))\n",
    "\n",
    "model.add(layers.MaxPooling2D())\n",
    "\n",
    "model.add(layers.Conv2D(64,\n",
    "                kernel_size=(3,3),\n",
    "                strides=(1,1),\n",
    "                padding=\"same\",\n",
    "                activation=\"relu\"))\n",
    "\n",
    "model.add(layers.Flatten())\n",
    "\n",
    "model.add(layers.Dense(64,activation=\"relu\"))\n",
    "model.add(layers.Dropout(0.5))\n",
    "\n",
    "model.add(layers.Dense(64,activation=\"relu\"))\n",
    "model.add(layers.Dropout(0.5))\n",
    "\n",
    "model.add(layers.Dense(10,activation=\"softmax\"))\n",
    "\n",
    "model.compile(optimizer=\"adam\",\n",
    "             loss=\"sparse_categorical_crossentropy\",\n",
    "             metrics=[\"accuracy\"])"
   ]
  },
  {
   "cell_type": "code",
   "execution_count": null,
   "id": "2e502020-46bf-4fa5-a14a-8094bfd091c3",
   "metadata": {},
   "outputs": [],
   "source": [
    "results = model.fit(X_train,y_train,batch_size=128,epochs = 20,validation_data=(X_val,y_val))"
   ]
  },
  {
   "cell_type": "code",
   "execution_count": null,
   "id": "34a1f9b9-91b2-482c-ad30-a64e8ac73677",
   "metadata": {},
   "outputs": [],
   "source": [
    "model.evaluate(X_test,y_test)"
   ]
  },
  {
   "cell_type": "code",
   "execution_count": null,
   "id": "76f0e07e-7d56-483a-b62a-848e2db345cd",
   "metadata": {},
   "outputs": [],
   "source": [
    "plt.plot(results.history[\"loss\"],label=\"loss\")\n",
    "\n",
    "plt.plot(results.history[\"val_loss\"],label=\"val_loss\")\n",
    "\n",
    "plt.xlabel(\"Epoch\")\n",
    "plt.ylabel(\"Loss\")\n",
    "plt.title(\"Loss-Val_Loss Kıyaslaması(Loss/Epoch)\")\n",
    "plt.legend()\n",
    "\n",
    "plt.show()"
   ]
  },
  {
   "cell_type": "code",
   "execution_count": null,
   "id": "78c2353c-a521-4425-8bf9-1bfe163e8eff",
   "metadata": {},
   "outputs": [],
   "source": [
    "plt.plot(results.history[\"accuracy\"],label=\"accuracy\")\n",
    "\n",
    "plt.plot(results.history[\"val_accuracy\"],label=\"val_accuracy\")\n",
    "\n",
    "plt.xlabel(\"Epoch\")\n",
    "plt.ylabel(\"Accuracy\")\n",
    "plt.title(\"Accuracy-Val_Accuracy Kıyaslaması(Accuracy/Epoch)\")\n",
    "plt.legend()\n",
    "\n",
    "plt.show()"
   ]
  }
 ],
 "metadata": {
  "kernelspec": {
   "display_name": "Python 3 (ipykernel)",
   "language": "python",
   "name": "python3"
  },
  "language_info": {
   "codemirror_mode": {
    "name": "ipython",
    "version": 3
   },
   "file_extension": ".py",
   "mimetype": "text/x-python",
   "name": "python",
   "nbconvert_exporter": "python",
   "pygments_lexer": "ipython3",
   "version": "3.9.12"
  }
 },
 "nbformat": 4,
 "nbformat_minor": 5
}
