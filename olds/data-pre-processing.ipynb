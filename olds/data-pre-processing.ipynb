{
 "cells": [
  {
   "cell_type": "code",
   "execution_count": 1,
   "id": "d38617ec-667b-4814-b3eb-7c89462aab0d",
   "metadata": {},
   "outputs": [],
   "source": [
    "import cv2\n",
    "from os import listdir\n",
    "from os.path import isfile, join\n",
    "import numpy as np"
   ]
  },
  {
   "cell_type": "code",
   "execution_count": 2,
   "id": "749610a6-d139-4d50-a233-d680481b4e2f",
   "metadata": {},
   "outputs": [],
   "source": [
    "from sklearn.model_selection import train_test_split"
   ]
  },
  {
   "cell_type": "code",
   "execution_count": 3,
   "id": "048b7576-3167-4d2e-9bac-d931fb38a344",
   "metadata": {},
   "outputs": [],
   "source": [
    "mypath='spectrograms/0'\n",
    "onlyfiles = [ f for f in listdir(mypath) if isfile(join(mypath,f)) ]\n",
    "images_zero = np.empty(len(onlyfiles), dtype=object)\n",
    "for n in range(0, len(onlyfiles)):\n",
    "    images_zero[n] = cv2.imread( join(mypath,onlyfiles[n]) )"
   ]
  },
  {
   "cell_type": "code",
   "execution_count": 4,
   "id": "e3ab54df-ac24-4d9d-a4c4-013833d17810",
   "metadata": {},
   "outputs": [],
   "source": [
    "mypath='spectrograms/1'\n",
    "onlyfiles = [ f for f in listdir(mypath) if isfile(join(mypath,f)) ]\n",
    "images_one = np.empty(len(onlyfiles), dtype=object)\n",
    "for n in range(0, len(onlyfiles)):\n",
    "    images_one[n] = cv2.imread( join(mypath,onlyfiles[n]) )"
   ]
  },
  {
   "cell_type": "code",
   "execution_count": 5,
   "id": "967be17a-c491-40b2-bf25-05d75f2eb3ef",
   "metadata": {},
   "outputs": [],
   "source": [
    "mypath='spectrograms/2'\n",
    "onlyfiles = [ f for f in listdir(mypath) if isfile(join(mypath,f)) ]\n",
    "images_two = np.empty(len(onlyfiles), dtype=object)\n",
    "for n in range(0, len(onlyfiles)):\n",
    "    images_two[n] = cv2.imread( join(mypath,onlyfiles[n]) )"
   ]
  },
  {
   "cell_type": "code",
   "execution_count": 6,
   "id": "687b314c-ff64-4123-b85a-6c6c6f44377d",
   "metadata": {},
   "outputs": [],
   "source": [
    "mypath='spectrograms/3'\n",
    "onlyfiles = [ f for f in listdir(mypath) if isfile(join(mypath,f)) ]\n",
    "images_three = np.empty(len(onlyfiles), dtype=object)\n",
    "for n in range(0, len(onlyfiles)):\n",
    "    images_three[n] = cv2.imread( join(mypath,onlyfiles[n]) )"
   ]
  },
  {
   "cell_type": "code",
   "execution_count": 7,
   "id": "d9921722-ad69-4e4a-9421-9152dc2efcb8",
   "metadata": {},
   "outputs": [],
   "source": [
    "mypath='spectrograms/4'\n",
    "onlyfiles = [ f for f in listdir(mypath) if isfile(join(mypath,f)) ]\n",
    "images_four = np.empty(len(onlyfiles), dtype=object)\n",
    "for n in range(0, len(onlyfiles)):\n",
    "    images_four[n] = cv2.imread( join(mypath,onlyfiles[n]) )"
   ]
  },
  {
   "cell_type": "code",
   "execution_count": 8,
   "id": "26e29578-1982-4aab-b3c5-70218f075ff5",
   "metadata": {},
   "outputs": [],
   "source": [
    "mypath='spectrograms/5'\n",
    "onlyfiles = [ f for f in listdir(mypath) if isfile(join(mypath,f)) ]\n",
    "images_five = np.empty(len(onlyfiles), dtype=object)\n",
    "for n in range(0, len(onlyfiles)):\n",
    "    images_five[n] = cv2.imread( join(mypath,onlyfiles[n]) )"
   ]
  },
  {
   "cell_type": "code",
   "execution_count": 9,
   "id": "bb384fde-8ab8-4508-9674-733962576fba",
   "metadata": {},
   "outputs": [],
   "source": [
    "mypath='spectrograms/6'\n",
    "onlyfiles = [ f for f in listdir(mypath) if isfile(join(mypath,f)) ]\n",
    "images_six = np.empty(len(onlyfiles), dtype=object)\n",
    "for n in range(0, len(onlyfiles)):\n",
    "    images_six[n] = cv2.imread( join(mypath,onlyfiles[n]) )"
   ]
  },
  {
   "cell_type": "code",
   "execution_count": 10,
   "id": "cb830152-9753-4891-a42c-a7d144a2418a",
   "metadata": {},
   "outputs": [],
   "source": [
    "mypath='spectrograms/7'\n",
    "onlyfiles = [ f for f in listdir(mypath) if isfile(join(mypath,f)) ]\n",
    "images_seven = np.empty(len(onlyfiles), dtype=object)\n",
    "for n in range(0, len(onlyfiles)):\n",
    "    images_seven[n] = cv2.imread( join(mypath,onlyfiles[n]) )"
   ]
  },
  {
   "cell_type": "code",
   "execution_count": 11,
   "id": "88c52675-65c5-4581-9bef-49ef43936589",
   "metadata": {},
   "outputs": [],
   "source": [
    "mypath='spectrograms/8'\n",
    "onlyfiles = [ f for f in listdir(mypath) if isfile(join(mypath,f)) ]\n",
    "images_eight = np.empty(len(onlyfiles), dtype=object)\n",
    "for n in range(0, len(onlyfiles)):\n",
    "    images_eight[n] = cv2.imread( join(mypath,onlyfiles[n]) )"
   ]
  },
  {
   "cell_type": "code",
   "execution_count": 12,
   "id": "c1497188-fe17-42f6-9350-cbc6cb88fa00",
   "metadata": {},
   "outputs": [],
   "source": [
    "mypath='spectrograms/9'\n",
    "onlyfiles = [ f for f in listdir(mypath) if isfile(join(mypath,f)) ]\n",
    "images_nine = np.empty(len(onlyfiles), dtype=object)\n",
    "for n in range(0, len(onlyfiles)):\n",
    "    images_nine[n] = cv2.imread( join(mypath,onlyfiles[n]) )"
   ]
  },
  {
   "cell_type": "code",
   "execution_count": 13,
   "id": "4a80cb56-43f3-4883-8eba-9531a53987d9",
   "metadata": {},
   "outputs": [],
   "source": [
    "zeros = list()\n",
    "for image in images_zero:\n",
    "    resized = cv2.resize(image,(32,32))/255\n",
    "    \n",
    "    zeros.append(resized)"
   ]
  },
  {
   "cell_type": "code",
   "execution_count": 14,
   "id": "74b7b9bb-a18d-44a5-974c-1e53cdb8c7b5",
   "metadata": {},
   "outputs": [],
   "source": [
    "ones = list()\n",
    "for image in images_one:\n",
    "    resized = cv2.resize(image,(32,32))/255\n",
    "    \n",
    "    ones.append(resized)"
   ]
  },
  {
   "cell_type": "code",
   "execution_count": 15,
   "id": "e203d24d-a3f9-4c82-b4fa-67c7384b53e6",
   "metadata": {},
   "outputs": [],
   "source": [
    "twos = list()\n",
    "for image in images_two:\n",
    "    resized = cv2.resize(image,(32,32))/255\n",
    "    \n",
    "    twos.append(resized)"
   ]
  },
  {
   "cell_type": "code",
   "execution_count": 16,
   "id": "cfdc9cfb-6c9f-4f0f-85b6-e42a7b369adb",
   "metadata": {},
   "outputs": [],
   "source": [
    "threes = list()\n",
    "for image in images_three:\n",
    "    resized = cv2.resize(image,(32,32))/255\n",
    "    \n",
    "    threes.append(resized)"
   ]
  },
  {
   "cell_type": "code",
   "execution_count": 17,
   "id": "fd4a1119-cb84-4055-ba91-bc8c7b2d8ee6",
   "metadata": {},
   "outputs": [],
   "source": [
    "fours = list()\n",
    "for image in images_four:\n",
    "    resized = cv2.resize(image,(32,32))/255\n",
    "    \n",
    "    fours.append(resized)"
   ]
  },
  {
   "cell_type": "code",
   "execution_count": 18,
   "id": "c48cb70d-a9b3-4965-b2f0-61576950b074",
   "metadata": {},
   "outputs": [],
   "source": [
    "fives = list()\n",
    "for image in images_five:\n",
    "    resized = cv2.resize(image,(32,32))/255\n",
    "    \n",
    "    fives.append(resized)"
   ]
  },
  {
   "cell_type": "code",
   "execution_count": 19,
   "id": "e821528e-54bf-4b5c-861e-b6281e92a5c6",
   "metadata": {},
   "outputs": [],
   "source": [
    "sixs = list()\n",
    "for image in images_six:\n",
    "    resized = cv2.resize(image,(32,32))/255\n",
    "    \n",
    "    sixs.append(resized)"
   ]
  },
  {
   "cell_type": "code",
   "execution_count": 20,
   "id": "0adc4ed4-4ca1-468e-a952-b4d05fcbb4d8",
   "metadata": {},
   "outputs": [],
   "source": [
    "sevens = list()\n",
    "for image in images_seven:\n",
    "    resized = cv2.resize(image,(32,32))/255\n",
    "    \n",
    "    sevens.append(resized)"
   ]
  },
  {
   "cell_type": "code",
   "execution_count": 21,
   "id": "09255c01-712f-4988-a0fc-7f1ae88f8db0",
   "metadata": {},
   "outputs": [],
   "source": [
    "eights = list()\n",
    "for image in images_eight:\n",
    "    resized = cv2.resize(image,(32,32))/255\n",
    "    \n",
    "    eights.append(resized)"
   ]
  },
  {
   "cell_type": "code",
   "execution_count": 22,
   "id": "2e19e968-13d6-404e-8e15-b772b078a013",
   "metadata": {},
   "outputs": [],
   "source": [
    "nines = list()\n",
    "for image in images_nine:\n",
    "    resized = cv2.resize(image,(32,32))/255\n",
    "    \n",
    "    nines.append(resized)"
   ]
  },
  {
   "cell_type": "code",
   "execution_count": 23,
   "id": "d3e4a1a9-7943-4595-8e97-044938e111b6",
   "metadata": {},
   "outputs": [],
   "source": [
    "class_list = [zeros,ones,twos,threes,fours,fives,sixs,sevens,eights,nines]\n",
    "classes_list_numbers=[0,1,2,3,4,5,6,7,8,9]\n",
    "class_list_str = [\"zeros\",\"ones\",\"twos\",\"threes\",\"fours\",\"fives\",\"sixs\",\"sevens\",\"eights\",\"nines\"]"
   ]
  },
  {
   "cell_type": "code",
   "execution_count": 24,
   "id": "c0357d3b-d056-4723-901f-9f50fabc3eee",
   "metadata": {},
   "outputs": [],
   "source": [
    "all_images = list()\n",
    "for classes in class_list:\n",
    "    all_images.append(classes)"
   ]
  },
  {
   "cell_type": "code",
   "execution_count": 25,
   "id": "573e61f8-63e5-4659-9c65-462aaca2e887",
   "metadata": {},
   "outputs": [],
   "source": [
    "targets=list()\n",
    "for i in class_list_str:\n",
    "    \n",
    "    if i == \"zeros\":\n",
    "        for j in range(len(zeros)):\n",
    "            targets.append(0)\n",
    "    elif i == \"ones\":\n",
    "        for j in range(len(ones)):\n",
    "            targets.append(1)\n",
    "    elif i == \"twos\":\n",
    "        for j in range(len(twos)):\n",
    "            targets.append(2)\n",
    "    elif i == \"threes\":\n",
    "        for j in range(len(threes)):\n",
    "            targets.append(3)\n",
    "    elif i == \"fours\":\n",
    "        for j in range(len(fours)):\n",
    "            targets.append(4)\n",
    "    elif i == \"fives\":\n",
    "        for j in range(len(fives)):\n",
    "            targets.append(5)\n",
    "    elif i == \"sixs\":\n",
    "        for j in range(len(sixs)):\n",
    "            targets.append(6)\n",
    "    elif i == \"sevens\":\n",
    "        for j in range(len(sevens)):\n",
    "            targets.append(7)\n",
    "    elif i == \"eights\":\n",
    "        for j in range(len(eights)):\n",
    "            targets.append(8)\n",
    "    else:\n",
    "        for j in range(len(nines)):\n",
    "            targets.append(9)\n",
    "targets = np.array(targets)"
   ]
  },
  {
   "cell_type": "code",
   "execution_count": 26,
   "id": "a8b29cc9-cfc3-4443-ab2e-790a9120f26f",
   "metadata": {},
   "outputs": [],
   "source": [
    "images = list()\n",
    "for i in range(10):\n",
    "    for j in range(len(all_images[i])):\n",
    "        images.append(all_images[i][j])\n",
    "images = np.array(images)"
   ]
  },
  {
   "cell_type": "code",
   "execution_count": 27,
   "id": "7d1c4055-3c2a-4b97-b274-03fff7f81de1",
   "metadata": {},
   "outputs": [],
   "source": [
    "X_train,X_val_test,y_train,y_val_test = train_test_split(images,targets,test_size = 0.2,random_state=123)"
   ]
  },
  {
   "cell_type": "code",
   "execution_count": 28,
   "id": "6e9a0b01-e4a0-424b-81b8-5749099d89db",
   "metadata": {},
   "outputs": [],
   "source": [
    "X_test,X_val,y_test,y_val = train_test_split(X_val_test,y_val_test,test_size=0.5,random_state=123)"
   ]
  },
  {
   "cell_type": "code",
   "execution_count": 29,
   "id": "7d8737c6-c8b3-4c01-ada5-470286f7aa4b",
   "metadata": {},
   "outputs": [],
   "source": [
    "import tensorflow as tf\n",
    "from tensorflow import keras\n",
    "from tensorflow.keras import layers"
   ]
  },
  {
   "cell_type": "code",
   "execution_count": 30,
   "id": "d6e31dc4-301f-4508-a296-6cafa67485d8",
   "metadata": {},
   "outputs": [],
   "source": [
    "model = keras.Sequential()"
   ]
  },
  {
   "cell_type": "code",
   "execution_count": 31,
   "id": "c33d2547-aa07-4fac-9995-f7f47706a54a",
   "metadata": {},
   "outputs": [],
   "source": [
    "model.add(layers.Conv2D(32,\n",
    "                kernel_size=(3,3),\n",
    "                strides=(1,1),\n",
    "                padding=\"same\",\n",
    "                activation=\"relu\",\n",
    "                input_shape=(32,32,3)))\n",
    "\n",
    "model.add(layers.MaxPooling2D((2,2)))\n",
    "\n",
    "model.add(layers.Conv2D(64,\n",
    "                kernel_size=(3,3),\n",
    "                strides=(1,1),\n",
    "                padding=\"same\",\n",
    "                activation=\"relu\"))\n",
    "\n",
    "model.add(layers.MaxPooling2D())\n",
    "\n",
    "model.add(layers.Conv2D(64,\n",
    "                kernel_size=(3,3),\n",
    "                strides=(1,1),\n",
    "                padding=\"same\",\n",
    "                activation=\"relu\"))\n",
    "\n",
    "model.add(layers.Flatten())\n",
    "\n",
    "model.add(layers.Dense(64,activation=\"relu\"))\n",
    "model.add(layers.Dropout(0.5))\n",
    "\n",
    "model.add(layers.Dense(64,activation=\"relu\"))\n",
    "model.add(layers.Dropout(0.5))\n",
    "\n",
    "model.add(layers.Dense(10,activation=\"softmax\"))\n",
    "\n",
    "model.compile(optimizer=\"adam\",\n",
    "             loss=\"sparse_categorical_crossentropy\",\n",
    "             metrics=[\"accuracy\"])"
   ]
  },
  {
   "cell_type": "code",
   "execution_count": 32,
   "id": "e8a924d1-b717-461a-b8c1-d00f3b8aa6ff",
   "metadata": {},
   "outputs": [
    {
     "name": "stdout",
     "output_type": "stream",
     "text": [
      "Epoch 1/50\n",
      "55/55 [==============================] - 7s 89ms/step - loss: 2.1181 - accuracy: 0.2143 - val_loss: 1.7607 - val_accuracy: 0.3684\n",
      "Epoch 2/50\n",
      "55/55 [==============================] - 5s 83ms/step - loss: 1.7866 - accuracy: 0.3499 - val_loss: 1.4647 - val_accuracy: 0.4748\n",
      "Epoch 3/50\n",
      "55/55 [==============================] - 5s 85ms/step - loss: 1.5929 - accuracy: 0.4342 - val_loss: 1.3375 - val_accuracy: 0.5240\n",
      "Epoch 4/50\n",
      "55/55 [==============================] - 5s 96ms/step - loss: 1.4264 - accuracy: 0.4912 - val_loss: 1.1977 - val_accuracy: 0.6144\n",
      "Epoch 5/50\n",
      "55/55 [==============================] - 5s 91ms/step - loss: 1.3293 - accuracy: 0.5267 - val_loss: 1.1121 - val_accuracy: 0.6213\n",
      "Epoch 6/50\n",
      "55/55 [==============================] - 5s 94ms/step - loss: 1.2185 - accuracy: 0.5659 - val_loss: 1.0098 - val_accuracy: 0.6728\n",
      "Epoch 7/50\n",
      "55/55 [==============================] - 5s 100ms/step - loss: 1.1369 - accuracy: 0.6064 - val_loss: 0.9703 - val_accuracy: 0.6957\n",
      "Epoch 8/50\n",
      "55/55 [==============================] - 6s 103ms/step - loss: 1.0509 - accuracy: 0.6351 - val_loss: 0.8746 - val_accuracy: 0.7220\n",
      "Epoch 9/50\n",
      "55/55 [==============================] - 5s 90ms/step - loss: 0.9810 - accuracy: 0.6617 - val_loss: 0.8515 - val_accuracy: 0.7460\n",
      "Epoch 10/50\n",
      "55/55 [==============================] - 5s 100ms/step - loss: 0.9421 - accuracy: 0.6793 - val_loss: 0.7998 - val_accuracy: 0.7643\n",
      "Epoch 11/50\n",
      "55/55 [==============================] - 5s 93ms/step - loss: 0.8827 - accuracy: 0.6998 - val_loss: 0.8055 - val_accuracy: 0.7506\n",
      "Epoch 12/50\n",
      "55/55 [==============================] - 5s 90ms/step - loss: 0.8085 - accuracy: 0.7268 - val_loss: 0.7776 - val_accuracy: 0.7654\n",
      "Epoch 13/50\n",
      "55/55 [==============================] - 5s 97ms/step - loss: 0.7809 - accuracy: 0.7372 - val_loss: 0.7249 - val_accuracy: 0.7860\n",
      "Epoch 14/50\n",
      "55/55 [==============================] - 5s 97ms/step - loss: 0.7225 - accuracy: 0.7589 - val_loss: 0.7416 - val_accuracy: 0.7815\n",
      "Epoch 15/50\n",
      "55/55 [==============================] - 6s 112ms/step - loss: 0.7217 - accuracy: 0.7632 - val_loss: 0.6911 - val_accuracy: 0.7941\n",
      "Epoch 16/50\n",
      "55/55 [==============================] - 6s 117ms/step - loss: 0.6908 - accuracy: 0.7787 - val_loss: 0.6890 - val_accuracy: 0.7906\n",
      "Epoch 17/50\n",
      "55/55 [==============================] - 7s 118ms/step - loss: 0.6289 - accuracy: 0.7940 - val_loss: 0.6718 - val_accuracy: 0.7918\n",
      "Epoch 18/50\n",
      "55/55 [==============================] - 6s 105ms/step - loss: 0.6304 - accuracy: 0.7964 - val_loss: 0.7006 - val_accuracy: 0.8032\n",
      "Epoch 19/50\n",
      "55/55 [==============================] - 6s 108ms/step - loss: 0.5595 - accuracy: 0.8130 - val_loss: 0.7052 - val_accuracy: 0.8009\n",
      "Epoch 20/50\n",
      "55/55 [==============================] - 5s 100ms/step - loss: 0.5353 - accuracy: 0.8200 - val_loss: 0.6632 - val_accuracy: 0.8089\n",
      "Epoch 21/50\n",
      "55/55 [==============================] - 6s 111ms/step - loss: 0.5483 - accuracy: 0.8179 - val_loss: 0.6720 - val_accuracy: 0.7998\n",
      "Epoch 22/50\n",
      "55/55 [==============================] - 6s 113ms/step - loss: 0.4893 - accuracy: 0.8338 - val_loss: 0.6566 - val_accuracy: 0.8272\n",
      "Epoch 23/50\n",
      "55/55 [==============================] - 6s 107ms/step - loss: 0.4841 - accuracy: 0.8368 - val_loss: 0.6256 - val_accuracy: 0.8204\n",
      "Epoch 24/50\n",
      "55/55 [==============================] - 6s 102ms/step - loss: 0.4538 - accuracy: 0.8507 - val_loss: 0.6148 - val_accuracy: 0.8364\n",
      "Epoch 25/50\n",
      "55/55 [==============================] - 6s 110ms/step - loss: 0.4476 - accuracy: 0.8543 - val_loss: 0.6590 - val_accuracy: 0.8146\n",
      "Epoch 26/50\n",
      "55/55 [==============================] - 6s 110ms/step - loss: 0.4346 - accuracy: 0.8527 - val_loss: 0.6684 - val_accuracy: 0.8318\n",
      "Epoch 27/50\n",
      "55/55 [==============================] - 6s 105ms/step - loss: 0.4148 - accuracy: 0.8604 - val_loss: 0.6234 - val_accuracy: 0.8284\n",
      "Epoch 28/50\n",
      "55/55 [==============================] - 5s 90ms/step - loss: 0.3889 - accuracy: 0.8703 - val_loss: 0.5883 - val_accuracy: 0.8387\n",
      "Epoch 29/50\n",
      "55/55 [==============================] - 6s 102ms/step - loss: 0.3740 - accuracy: 0.8744 - val_loss: 0.6154 - val_accuracy: 0.8375\n",
      "Epoch 30/50\n",
      "55/55 [==============================] - 5s 99ms/step - loss: 0.3486 - accuracy: 0.8820 - val_loss: 0.5929 - val_accuracy: 0.8410\n",
      "Epoch 31/50\n",
      "55/55 [==============================] - 5s 91ms/step - loss: 0.3462 - accuracy: 0.8836 - val_loss: 0.6374 - val_accuracy: 0.8398\n",
      "Epoch 32/50\n",
      "55/55 [==============================] - 5s 99ms/step - loss: 0.3286 - accuracy: 0.8906 - val_loss: 0.6401 - val_accuracy: 0.8341\n",
      "Epoch 33/50\n",
      "55/55 [==============================] - 6s 105ms/step - loss: 0.3225 - accuracy: 0.8932 - val_loss: 0.6797 - val_accuracy: 0.8455\n",
      "Epoch 34/50\n",
      "55/55 [==============================] - 5s 98ms/step - loss: 0.3262 - accuracy: 0.8899 - val_loss: 0.6712 - val_accuracy: 0.8410\n",
      "Epoch 35/50\n",
      "55/55 [==============================] - 6s 106ms/step - loss: 0.3038 - accuracy: 0.8979 - val_loss: 0.7056 - val_accuracy: 0.8398\n",
      "Epoch 36/50\n",
      "55/55 [==============================] - 5s 97ms/step - loss: 0.3025 - accuracy: 0.8966 - val_loss: 0.6527 - val_accuracy: 0.8478\n",
      "Epoch 37/50\n",
      "55/55 [==============================] - 6s 101ms/step - loss: 0.2743 - accuracy: 0.9049 - val_loss: 0.6675 - val_accuracy: 0.8490\n",
      "Epoch 38/50\n",
      "55/55 [==============================] - 6s 102ms/step - loss: 0.2643 - accuracy: 0.9110 - val_loss: 0.6428 - val_accuracy: 0.8524\n",
      "Epoch 39/50\n",
      "55/55 [==============================] - 6s 102ms/step - loss: 0.2740 - accuracy: 0.9042 - val_loss: 0.6450 - val_accuracy: 0.8478\n",
      "Epoch 40/50\n",
      "55/55 [==============================] - 5s 97ms/step - loss: 0.2629 - accuracy: 0.9101 - val_loss: 0.6799 - val_accuracy: 0.8513\n",
      "Epoch 41/50\n",
      "55/55 [==============================] - 6s 103ms/step - loss: 0.2429 - accuracy: 0.9171 - val_loss: 0.6962 - val_accuracy: 0.8547\n",
      "Epoch 42/50\n",
      "55/55 [==============================] - 6s 101ms/step - loss: 0.2547 - accuracy: 0.9098 - val_loss: 0.7472 - val_accuracy: 0.8455\n",
      "Epoch 43/50\n",
      "55/55 [==============================] - 5s 95ms/step - loss: 0.2450 - accuracy: 0.9160 - val_loss: 0.6959 - val_accuracy: 0.8513\n",
      "Epoch 44/50\n",
      "55/55 [==============================] - 6s 106ms/step - loss: 0.2337 - accuracy: 0.9174 - val_loss: 0.7542 - val_accuracy: 0.8501\n",
      "Epoch 45/50\n",
      "55/55 [==============================] - 6s 104ms/step - loss: 0.2199 - accuracy: 0.9221 - val_loss: 0.7881 - val_accuracy: 0.8341\n",
      "Epoch 46/50\n",
      "55/55 [==============================] - 5s 98ms/step - loss: 0.2376 - accuracy: 0.9214 - val_loss: 0.7661 - val_accuracy: 0.8501\n",
      "Epoch 47/50\n",
      "55/55 [==============================] - 5s 99ms/step - loss: 0.2022 - accuracy: 0.9300 - val_loss: 0.8652 - val_accuracy: 0.8467\n",
      "Epoch 48/50\n",
      "55/55 [==============================] - 6s 101ms/step - loss: 0.2301 - accuracy: 0.9263 - val_loss: 0.7647 - val_accuracy: 0.8490\n",
      "Epoch 49/50\n",
      "55/55 [==============================] - 5s 97ms/step - loss: 0.2268 - accuracy: 0.9238 - val_loss: 0.7486 - val_accuracy: 0.8547\n",
      "Epoch 50/50\n",
      "55/55 [==============================] - 6s 101ms/step - loss: 0.2023 - accuracy: 0.9314 - val_loss: 0.9000 - val_accuracy: 0.8341\n"
     ]
    }
   ],
   "source": [
    "results = model.fit(X_train,y_train,batch_size=128,epochs = 50,validation_data=(X_val,y_val))"
   ]
  },
  {
   "cell_type": "code",
   "execution_count": 33,
   "id": "41d2945e-3636-45b3-bd63-e9e152efa2b2",
   "metadata": {},
   "outputs": [],
   "source": [
    "import matplotlib.pyplot as plt"
   ]
  },
  {
   "cell_type": "code",
   "execution_count": 34,
   "id": "b532ebcf-f188-4ba8-adce-2b6012d966fc",
   "metadata": {},
   "outputs": [
    {
     "data": {
      "image/png": "[encoded data removed]",
      "text/plain": [
       "<Figure size 432x288 with 1 Axes>"
      ]
     },
     "metadata": {
      "needs_background": "light"
     },
     "output_type": "display_data"
    }
   ],
   "source": [
    "plt.plot(results.history[\"loss\"],label=\"loss\")\n",
    "\n",
    "plt.plot(results.history[\"val_loss\"],label=\"val_loss\")\n",
    "\n",
    "plt.xlabel(\"Epoch\")\n",
    "plt.ylabel(\"Loss\")\n",
    "\n",
    "plt.legend()\n",
    "\n",
    "plt.show()"
   ]
  },
  {
   "cell_type": "code",
   "execution_count": 35,
   "id": "83b20476-81b3-412f-b652-cb45504698ba",
   "metadata": {},
   "outputs": [
    {
     "data": {
      "image/png": "[encoded data removed]",
      "text/plain": [
       "<Figure size 432x288 with 1 Axes>"
      ]
     },
     "metadata": {
      "needs_background": "light"
     },
     "output_type": "display_data"
    }
   ],
   "source": [
    "plt.plot(results.history[\"accuracy\"],label=\"accuracy\")\n",
    "\n",
    "plt.plot(results.history[\"val_accuracy\"],label=\"val_accuracy\")\n",
    "\n",
    "plt.xlabel(\"Epoch\")\n",
    "plt.ylabel(\"Accuracy\")\n",
    "\n",
    "plt.legend()\n",
    "\n",
    "plt.show()"
   ]
  },
  {
   "cell_type": "code",
   "execution_count": 36,
   "id": "4c2a1b9a-1393-4ea7-a0d1-74243affebb5",
   "metadata": {},
   "outputs": [
    {
     "name": "stdout",
     "output_type": "stream",
     "text": [
      "28/28 [==============================] - 0s 8ms/step - loss: 0.7596 - accuracy: 0.8408\n"
     ]
    },
    {
     "data": {
      "text/plain": [
       "[0.7596218585968018, 0.8407789468765259]"
      ]
     },
     "execution_count": 36,
     "metadata": {},
     "output_type": "execute_result"
    }
   ],
   "source": [
    "model.evaluate(X_test,y_test)"
   ]
  },
  {
   "cell_type": "code",
   "execution_count": 38,
   "id": "89641f4f-dd3d-46d9-b8b9-6a31312358f0",
   "metadata": {},
   "outputs": [
    {
     "name": "stdout",
     "output_type": "stream",
     "text": [
      "28/28 [==============================] - 0s 7ms/step\n"
     ]
    }
   ],
   "source": [
    "y_pred = model.predict(X_test)"
   ]
  },
  {
   "cell_type": "code",
   "execution_count": null,
   "id": "57724f25-6538-468f-84dd-b98fc0a9c802",
   "metadata": {},
   "outputs": [],
   "source": []
  },
  {
   "cell_type": "code",
   "execution_count": 40,
   "id": "2ce71c26-7e11-4889-8391-978598452b04",
   "metadata": {},
   "outputs": [
    {
     "data": {
      "text/plain": [
       "array([3, 9, 7, 9, 3, 2, 0, 9, 7, 0, 3, 0, 8, 6, 5, 0, 6, 3, 6, 7, 8, 9,\n",
       "       0, 5, 7, 2, 8, 5, 4, 9, 2, 4, 1, 5, 4, 9, 8, 2, 7, 5, 5, 5, 1, 7,\n",
       "       6, 0, 7, 2, 0, 7, 0, 3, 9, 6, 4, 3, 5, 3, 6, 9, 4, 0, 9, 2, 5, 5,\n",
       "       1, 4, 9, 2, 0, 3, 8, 8, 5, 2, 7, 4, 2, 5, 1, 2, 7, 3, 4, 8, 2, 3,\n",
       "       5, 3, 0, 0, 5, 9, 2, 5, 7, 4, 1, 3, 2, 8, 2, 1, 0, 4, 0, 1, 5, 3,\n",
       "       3, 4, 2, 3, 0, 9, 9, 7, 9, 9, 0, 2, 9, 0, 0, 7, 1, 2, 9, 8, 8, 9,\n",
       "       4, 7, 7, 8, 2, 7, 8, 5, 5, 3, 5, 7, 3, 9, 2, 8, 4, 5, 4, 5, 0, 8,\n",
       "       8, 4, 5, 3, 4, 4, 3, 4, 2, 9, 5, 4, 9, 4, 8, 5, 3, 7, 2, 1, 2, 7,\n",
       "       0, 3, 1, 9, 3, 2, 5, 0, 0, 9, 1, 5, 9, 4, 7, 3, 7, 7, 7, 8, 5, 0,\n",
       "       7, 8, 9, 0, 0, 2, 3, 4, 9, 7, 3, 8, 2, 9, 8, 3, 9, 9, 2, 7, 7, 5,\n",
       "       8, 3, 3, 8, 2, 3, 3, 0, 5, 2, 2, 6, 0, 3, 3, 0, 8, 3, 4, 1, 0, 0,\n",
       "       3, 8, 2, 8, 5, 4, 4, 9, 1, 6, 1, 4, 8, 4, 8, 2, 2, 7, 2, 0, 5, 4,\n",
       "       4, 0, 3, 7, 1, 0, 9, 5, 7, 9, 3, 3, 9, 7, 0, 9, 5, 7, 7, 9, 8, 7,\n",
       "       2, 0, 2, 3, 3, 3, 2, 0, 5, 4, 9, 2, 3, 8, 8, 7, 5, 3, 3, 2, 2, 5,\n",
       "       7, 0, 1, 3, 6, 1, 5, 5, 3, 2, 0, 5, 3, 5, 8, 5, 7, 7, 4, 9, 3, 7,\n",
       "       4, 0, 8, 5, 7, 0, 5, 9, 1, 0, 9, 8, 4, 9, 3, 6, 4, 3, 3, 9, 0, 9,\n",
       "       2, 8, 9, 8, 6, 3, 5, 0, 8, 9, 7, 5, 3, 4, 1, 0, 0, 9, 5, 4, 2, 0,\n",
       "       2, 2, 7, 2, 9, 2, 1, 9, 4, 8, 5, 0, 4, 2, 3, 7, 7, 8, 9, 9, 8, 3,\n",
       "       1, 8, 3, 9, 8, 7, 4, 9, 4, 2, 9, 7, 6, 4, 7, 3, 8, 0, 9, 5, 0, 8,\n",
       "       1, 8, 9, 3, 0, 0, 4, 2, 2, 4, 4, 2, 5, 4, 2, 7, 0, 9, 8, 6, 2, 4,\n",
       "       8, 3, 7, 4, 3, 2, 8, 0, 8, 3, 3, 2, 8, 9, 2, 7, 2, 3, 0, 6, 9, 3,\n",
       "       0, 9, 0, 0, 3, 8, 8, 7, 7, 7, 8, 4, 9, 0, 8, 2, 7, 8, 2, 5, 2, 7,\n",
       "       6, 0, 7, 2, 4, 0, 7, 2, 7, 9, 3, 1, 2, 2, 0, 7, 4, 1, 1, 7, 2, 0,\n",
       "       7, 5, 3, 7, 6, 0, 6, 3, 0, 0, 0, 5, 3, 5, 4, 7, 4, 9, 9, 5, 2, 6,\n",
       "       7, 5, 4, 8, 9, 4, 0, 6, 9, 7, 4, 2, 4, 7, 7, 2, 4, 1, 8, 8, 2, 5,\n",
       "       2, 8, 7, 5, 3, 4, 8, 0, 4, 0, 9, 8, 6, 1, 5, 0, 4, 5, 6, 4, 8, 1,\n",
       "       6, 4, 3, 7, 3, 6, 4, 7, 1, 7, 9, 4, 9, 8, 2, 2, 7, 3, 3, 5, 7, 5,\n",
       "       0, 3, 1, 0, 7, 4, 8, 1, 0, 7, 9, 2, 5, 7, 5, 3, 8, 7, 5, 5, 8, 9,\n",
       "       5, 7, 7, 8, 7, 1, 9, 7, 3, 7, 9, 4, 3, 4, 3, 5, 8, 4, 0, 9, 7, 5,\n",
       "       3, 3, 8, 8, 4, 4, 3, 3, 4, 9, 9, 3, 1, 9, 4, 9, 3, 0, 7, 9, 1, 4,\n",
       "       9, 2, 7, 2, 0, 4, 9, 8, 2, 9, 9, 3, 3, 0, 9, 8, 5, 2, 2, 1, 8, 3,\n",
       "       1, 5, 3, 5, 0, 9, 4, 2, 4, 1, 2, 0, 5, 4, 4, 6, 7, 7, 5, 5, 1, 6,\n",
       "       2, 1, 9, 5, 4, 4, 7, 9, 0, 4, 9, 9, 3, 9, 9, 3, 9, 0, 2, 0, 5, 2,\n",
       "       9, 0, 5, 1, 3, 3, 4, 2, 0, 9, 5, 2, 1, 6, 0, 3, 7, 9, 3, 3, 4, 8,\n",
       "       8, 0, 0, 5, 0, 9, 6, 8, 2, 2, 9, 7, 9, 9, 5, 5, 1, 4, 3, 9, 2, 0,\n",
       "       6, 2, 9, 0, 4, 7, 0, 8, 4, 7, 1, 2, 8, 0, 7, 3, 4, 7, 8, 8, 7, 4,\n",
       "       5, 9, 2, 2, 7, 1, 2, 7, 9, 7, 2, 7, 7, 4, 3, 6, 8, 3, 5, 4, 2, 3,\n",
       "       9, 8, 9, 0, 0, 8, 2, 9, 9, 5, 2, 8, 5, 2, 7, 7, 4, 8, 0, 2, 8, 9,\n",
       "       6, 0, 4, 9, 0, 0, 9, 0, 7, 0, 6, 9, 9, 3, 3, 2, 8, 8, 4, 4, 5, 2,\n",
       "       6, 9, 6, 9, 3, 5, 9, 2, 0, 5, 7, 0, 5, 3, 8])"
      ]
     },
     "execution_count": 40,
     "metadata": {},
     "output_type": "execute_result"
    }
   ],
   "source": [
    "y_test"
   ]
  },
  {
   "cell_type": "code",
   "execution_count": null,
   "id": "a7c46b34-db6a-47c7-b295-ca6fc1d79e70",
   "metadata": {},
   "outputs": [],
   "source": []
  }
 ],
 "metadata": {
  "kernelspec": {
   "display_name": "Python 3 (ipykernel)",
   "language": "python",
   "name": "python3"
  },
  "language_info": {
   "codemirror_mode": {
    "name": "ipython",
    "version": 3
   },
   "file_extension": ".py",
   "mimetype": "text/x-python",
   "name": "python",
   "nbconvert_exporter": "python",
   "pygments_lexer": "ipython3",
   "version": "3.9.12"
  }
 },
 "nbformat": 4,
 "nbformat_minor": 5
}
