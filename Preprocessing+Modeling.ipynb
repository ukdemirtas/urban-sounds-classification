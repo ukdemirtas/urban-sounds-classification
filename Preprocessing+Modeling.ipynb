{
 "cells": [
  {
   "cell_type": "code",
   "execution_count": 1,
   "id": "006ca508-8717-4668-97d5-e8ce12789e80",
   "metadata": {},
   "outputs": [],
   "source": [
    "import tensorflow as tf\n",
    "from tensorflow import keras\n",
    "from tensorflow.keras import layers\n",
    "from sklearn.model_selection import train_test_split\n",
    "import numpy as np\n",
    "import matplotlib.pyplot as plt"
   ]
  },
  {
   "cell_type": "code",
   "execution_count": 2,
   "id": "6f122f94-1404-4e6c-a15c-c4aa07eb311e",
   "metadata": {},
   "outputs": [],
   "source": [
    "image_size = (32,32)\n",
    "path=\"spectrograms\""
   ]
  },
  {
   "cell_type": "code",
   "execution_count": 3,
   "id": "b06e96ec-e0db-4cff-b4ec-5d0aca5e7323",
   "metadata": {},
   "outputs": [
    {
     "name": "stdout",
     "output_type": "stream",
     "text": [
      "Found 8735 files belonging to 10 classes.\n"
     ]
    }
   ],
   "source": [
    "train_ds = tf.keras.utils.image_dataset_from_directory(path,color_mode=\"grayscale\",image_size=[32,32],labels='inferred',label_mode = \"int\" ,batch_size=None,shuffle=False)\n",
    "#\"spectrograms\" dosyasının içindeki alt dosyaları sınıf olarak, ve görüntüleri data olarak çekiyoruz.\n",
    "#image_dataset_from_directory fonksiyonu sayesinde resizing,grayscaling yaptık\n",
    "#! \"shuffle=True\" iken accuracy score çok düşük !"
   ]
  },
  {
   "cell_type": "code",
   "execution_count": 4,
   "id": "d7753ec2-1961-440c-be8c-87b7a1ec678e",
   "metadata": {},
   "outputs": [],
   "source": [
    "def normalization(image,label): #datasetimiz (image,label) şeklinde bir tf.DataSet formunda image arrayi üzerinde normalization yapmak için fonksiyon oluşturuyoruz\n",
    "    image = tf.cast(image/255. , tf.float32)\n",
    "    return image,label"
   ]
  },
  {
   "cell_type": "code",
   "execution_count": 5,
   "id": "aee7faab-22be-4949-a3f0-03b4dd21c246",
   "metadata": {},
   "outputs": [],
   "source": [
    "normalized_train_ds = train_ds.map(normalization) #normalization fonksiyonunu train_ds üzerine uyguluyoruz"
   ]
  },
  {
   "cell_type": "code",
   "execution_count": 6,
   "id": "f191fe76-d13c-45e7-84cc-1fd798dd1c34",
   "metadata": {},
   "outputs": [],
   "source": [
    "images = list(normalized_train_ds.map(lambda x, y: x)) #datasetin içerisinden görüntüleri çekiyoruz (features for ML)\n",
    "labels = list(normalized_train_ds.map(lambda x, y: y)) #datasetin içerisinden labelleri çekiyoruz (targets for ML)\n",
    "images= np.asarray(images) \n",
    "labels= np.asarray(labels)"
   ]
  },
  {
   "cell_type": "code",
   "execution_count": 7,
   "id": "00e8d8dc-d329-42e8-a2fa-920c35fd7c2a",
   "metadata": {},
   "outputs": [],
   "source": [
    "datas = list() #images.shape = (x,32,32,1) şeklinde çıkmakta her görüntünün 3d array olduğunu görmekteyiz bunu 2d arraya dönüştürüyoruz.\n",
    "for image in images:\n",
    "    image = np.reshape(image,(32,32))\n",
    "    datas.append(image)\n",
    "datas=np.array(datas)"
   ]
  },
  {
   "cell_type": "code",
   "execution_count": 8,
   "id": "7225b70c-4f5e-4a37-aec6-d0f778046510",
   "metadata": {},
   "outputs": [],
   "source": [
    "X_train,X_val_test,y_train,y_val_test = train_test_split(datas,labels,test_size = 0.2) #datasetin %80'i training için ayırıyoruz.\n",
    "X_test,X_val,y_test,y_val = train_test_split(X_val_test,y_val_test,test_size=0.5) #datasetin %10'unu testing %10'unu validation için ayırıyoruz."
   ]
  },
  {
   "cell_type": "code",
   "execution_count": 9,
   "id": "4c905a9f-6750-4fda-96a0-fdfefe34d3e2",
   "metadata": {},
   "outputs": [
    {
     "name": "stdout",
     "output_type": "stream",
     "text": [
      "(6988, 32, 32) (873, 32, 32) (874, 32, 32)\n"
     ]
    }
   ],
   "source": [
    "print(X_train.shape,X_test.shape,X_val.shape)"
   ]
  },
  {
   "cell_type": "code",
   "execution_count": 10,
   "id": "f1fa5cd7-0e49-4ff6-b3bd-f3bf916ef6b5",
   "metadata": {},
   "outputs": [],
   "source": [
    "model = keras.Sequential() #modeli kuruyoruz"
   ]
  },
  {
   "cell_type": "code",
   "execution_count": 11,
   "id": "d43f6ec0-1b22-4d6c-8f17-e3d7dda5ace9",
   "metadata": {},
   "outputs": [],
   "source": [
    "model.add(layers.Conv2D(32,\n",
    "                kernel_size=(3,3),\n",
    "                strides=(1,1),\n",
    "                padding=\"same\",\n",
    "                activation=\"relu\",\n",
    "                input_shape=[32,32,1]))\n",
    "\n",
    "model.add(layers.MaxPooling2D((2,2)))\n",
    "\n",
    "model.add(layers.Conv2D(64,\n",
    "                kernel_size=(3,3),\n",
    "                strides=(1,1),\n",
    "                padding=\"same\",\n",
    "                activation=\"relu\"))\n",
    "\n",
    "model.add(layers.MaxPooling2D())\n",
    "\n",
    "model.add(layers.Conv2D(64,\n",
    "                kernel_size=(3,3),\n",
    "                strides=(1,1),\n",
    "                padding=\"same\",\n",
    "                activation=\"relu\"))\n",
    "\n",
    "model.add(layers.Flatten())\n",
    "\n",
    "model.add(layers.Dense(64,activation=\"relu\"))\n",
    "model.add(layers.Dropout(0.5))\n",
    "\n",
    "model.add(layers.Dense(64,activation=\"relu\"))\n",
    "model.add(layers.Dropout(0.5))\n",
    "\n",
    "model.add(layers.Dense(10,activation=\"softmax\"))\n",
    "\n",
    "model.compile(optimizer=\"adam\",\n",
    "             loss=\"sparse_categorical_crossentropy\",\n",
    "             metrics=[\"accuracy\"])"
   ]
  },
  {
   "cell_type": "code",
   "execution_count": 12,
   "id": "9d8d86ce-f1c2-4ce4-9d63-14b14bf18d22",
   "metadata": {},
   "outputs": [
    {
     "name": "stdout",
     "output_type": "stream",
     "text": [
      "Epoch 1/20\n",
      "55/55 [==============================] - 7s 108ms/step - loss: 2.1306 - accuracy: 0.2108 - val_loss: 1.8124 - val_accuracy: 0.4371\n",
      "Epoch 2/20\n",
      "55/55 [==============================] - 5s 100ms/step - loss: 1.8057 - accuracy: 0.3404 - val_loss: 1.4336 - val_accuracy: 0.5217\n",
      "Epoch 3/20\n",
      "55/55 [==============================] - 5s 89ms/step - loss: 1.5993 - accuracy: 0.4199 - val_loss: 1.3051 - val_accuracy: 0.5973\n",
      "Epoch 4/20\n",
      "55/55 [==============================] - 6s 101ms/step - loss: 1.4706 - accuracy: 0.4784 - val_loss: 1.2815 - val_accuracy: 0.5481\n",
      "Epoch 5/20\n",
      "55/55 [==============================] - 5s 97ms/step - loss: 1.3752 - accuracy: 0.5140 - val_loss: 1.1221 - val_accuracy: 0.6510\n",
      "Epoch 6/20\n",
      "55/55 [==============================] - 5s 97ms/step - loss: 1.2815 - accuracy: 0.5467 - val_loss: 1.0520 - val_accuracy: 0.6613\n",
      "Epoch 7/20\n",
      "55/55 [==============================] - 7s 121ms/step - loss: 1.1995 - accuracy: 0.5766 - val_loss: 0.9797 - val_accuracy: 0.7037\n",
      "Epoch 8/20\n",
      "55/55 [==============================] - 7s 120ms/step - loss: 1.1484 - accuracy: 0.6012 - val_loss: 0.9237 - val_accuracy: 0.7197\n",
      "Epoch 9/20\n",
      "55/55 [==============================] - 7s 126ms/step - loss: 1.1018 - accuracy: 0.6125 - val_loss: 1.1658 - val_accuracy: 0.6384\n",
      "Epoch 10/20\n",
      "55/55 [==============================] - 6s 106ms/step - loss: 1.0567 - accuracy: 0.6412 - val_loss: 0.8447 - val_accuracy: 0.7517\n",
      "Epoch 11/20\n",
      "55/55 [==============================] - 7s 132ms/step - loss: 1.0146 - accuracy: 0.6640 - val_loss: 0.8719 - val_accuracy: 0.7449\n",
      "Epoch 12/20\n",
      "55/55 [==============================] - 9s 157ms/step - loss: 0.9607 - accuracy: 0.6726 - val_loss: 0.7631 - val_accuracy: 0.7792\n",
      "Epoch 13/20\n",
      "55/55 [==============================] - 6s 112ms/step - loss: 0.9055 - accuracy: 0.6961 - val_loss: 0.7253 - val_accuracy: 0.7952\n",
      "Epoch 14/20\n",
      "55/55 [==============================] - 6s 101ms/step - loss: 0.8786 - accuracy: 0.7068 - val_loss: 0.8077 - val_accuracy: 0.7700\n",
      "Epoch 15/20\n",
      "55/55 [==============================] - 8s 146ms/step - loss: 0.8400 - accuracy: 0.7201 - val_loss: 0.6565 - val_accuracy: 0.8158\n",
      "Epoch 16/20\n",
      "55/55 [==============================] - 6s 116ms/step - loss: 0.7692 - accuracy: 0.7448 - val_loss: 0.6677 - val_accuracy: 0.7998\n",
      "Epoch 17/20\n",
      "55/55 [==============================] - 6s 102ms/step - loss: 0.7593 - accuracy: 0.7446 - val_loss: 0.6985 - val_accuracy: 0.7986\n",
      "Epoch 18/20\n",
      "55/55 [==============================] - 6s 104ms/step - loss: 0.7487 - accuracy: 0.7597 - val_loss: 0.6193 - val_accuracy: 0.8238\n",
      "Epoch 19/20\n",
      "55/55 [==============================] - 5s 98ms/step - loss: 0.6836 - accuracy: 0.7755 - val_loss: 0.6249 - val_accuracy: 0.8249\n",
      "Epoch 20/20\n",
      "55/55 [==============================] - 6s 105ms/step - loss: 0.6677 - accuracy: 0.7831 - val_loss: 0.6383 - val_accuracy: 0.8169\n"
     ]
    }
   ],
   "source": [
    "results = model.fit(X_train,y_train,batch_size=128,epochs = 20,validation_data=(X_val,y_val)) #training"
   ]
  },
  {
   "cell_type": "code",
   "execution_count": 13,
   "id": "9a8dca37-6684-4bed-bd5f-ed174fac1cbb",
   "metadata": {},
   "outputs": [
    {
     "data": {
      "image/png": "[encoded data removed]",
      "text/plain": [
       "<Figure size 432x288 with 1 Axes>"
      ]
     },
     "metadata": {
      "needs_background": "light"
     },
     "output_type": "display_data"
    }
   ],
   "source": [
    "plt.plot(results.history[\"loss\"],label=\"loss\")\n",
    "\n",
    "plt.plot(results.history[\"val_loss\"],label=\"val_loss\")\n",
    "\n",
    "plt.xlabel(\"Epoch\")\n",
    "plt.ylabel(\"Loss\")\n",
    "plt.title(\"Loss-Val_Loss Kıyaslaması(Loss/Epoch)\")\n",
    "plt.legend()\n",
    "\n",
    "plt.show()"
   ]
  },
  {
   "cell_type": "code",
   "execution_count": 14,
   "id": "8fdd89c7-5fb6-4d17-9791-97f6b04d47f8",
   "metadata": {},
   "outputs": [
    {
     "data": {
      "image/png": "[encoded data removed]",
      "text/plain": [
       "<Figure size 432x288 with 1 Axes>"
      ]
     },
     "metadata": {
      "needs_background": "light"
     },
     "output_type": "display_data"
    }
   ],
   "source": [
    "plt.plot(results.history[\"accuracy\"],label=\"accuracy\")\n",
    "\n",
    "plt.plot(results.history[\"val_accuracy\"],label=\"val_accuracy\")\n",
    "\n",
    "plt.xlabel(\"Epoch\")\n",
    "plt.ylabel(\"Accuracy\")\n",
    "plt.title(\"Accuracy-Val_Accuracy Kıyaslaması(Accuracy/Epoch)\")\n",
    "plt.legend()\n",
    "\n",
    "plt.show()"
   ]
  }
 ],
 "metadata": {
  "kernelspec": {
   "display_name": "Python 3 (ipykernel)",
   "language": "python",
   "name": "python3"
  },
  "language_info": {
   "codemirror_mode": {
    "name": "ipython",
    "version": 3
   },
   "file_extension": ".py",
   "mimetype": "text/x-python",
   "name": "python",
   "nbconvert_exporter": "python",
   "pygments_lexer": "ipython3",
   "version": "3.9.12"
  }
 },
 "nbformat": 4,
 "nbformat_minor": 5
}
